{
 "cells": [
  {
   "cell_type": "markdown",
   "id": "92b6a6e1",
   "metadata": {},
   "source": [
    "# Simulation 3 - Attack round dependency with b"
   ]
  },
  {
   "cell_type": "markdown",
   "id": "3ee65105",
   "metadata": {},
   "source": [
    "Final version: real run, clean."
   ]
  },
  {
   "cell_type": "markdown",
   "id": "5bd95990",
   "metadata": {},
   "source": [
    "This code simulate the attack on CountSketch with median estimator. This simulation sweeps the sketch **\"Width\" parameter 'b'** and record the amount of attack round needed to reach some predetermined BNR (Bias to Noise Ratio)."
   ]
  },
  {
   "cell_type": "code",
   "execution_count": 17,
   "id": "63f0dd50",
   "metadata": {},
   "outputs": [],
   "source": [
    "import matplotlib.pyplot as plt\n",
    "import numpy as np\n",
    "from numpy.random import default_rng\n",
    "from numpy.random import binomial\n",
    "from numpy.random import normal\n",
    "import math\n",
    "\n",
    "class Attack_round_sketch_width_dependency:\n",
    "    def __init__(self, nof_repititions = 5, bnr_list = [1.0, 2.0], nof_sim_keys=3, tail_size=1000, b_list = [30, 60], l=100, bk_ratio = 3, seed=None):\n",
    "        self.nof_repititions = nof_repititions\n",
    "        self.nof_sim_keys    = nof_sim_keys\n",
    "        self.bnr_list        = bnr_list\n",
    "        self.tail_size       = tail_size\n",
    "        self.l               = l\n",
    "        self.b_list          = b_list\n",
    "        self.bk_ratio        = bk_ratio\n",
    "        self.seed            = seed\n",
    "        self.rng             = default_rng(seed)\n",
    "        self.results         = np.zeros((self.nof_repititions, len(self.b_list), len(self.bnr_list)), dtype=float)\n",
    "\n",
    "    def __repr__(self):\n",
    "        return \"This test is sweeping b values. Test parameters:\\n number of repititions = {0}; \\n num of keys simulated = {1};\\n attack tail size = {2};\\n ell value = {3}; b/k = {7}; b values = {4}; BNR values = {6};\\n seed = {5};\" \\\n",
    "            .format(self.nof_repititions, self.nof_sim_keys, self.tail_size, self.l, self.b_list, self.seed, self.bnr_list, self.bk_ratio)\n",
    "\n",
    "    def set_l(self, curr_l):        \n",
    "        self.l   = curr_l\n",
    "    def set_b(self, curr_b):        \n",
    "        self.b   = curr_b\n",
    "        self.k   = int(self.b / self.bk_ratio)\n",
    "    #def set_k(self, curr_k):        self.k   = int(self.b / self.bk_ratio)\n",
    "    def set_bnr(self, curr_bnr):    \n",
    "        self.bnr = curr_bnr\n",
    "    \n",
    "    def draw_sketch(self):\n",
    "        self.sim_keys_hash = self.rng.choice(self.b, size=(self.l, self.k)) \n",
    "        self.sim_keys_sign = self.rng.choice(2     , size=(self.l, self.k)) * 2 - 1\n",
    "    \n",
    "    def generate_v(self, mk_factor=10, lk_factor=20):\n",
    "        tail_sd = math.sqrt(self.tail_size / self.b)\n",
    "        lk_weight = int(tail_sd * lk_factor)\n",
    "        mk_weight = int(tail_sd * mk_factor)\n",
    "        v = np.ones(self.k, dtype=int)\n",
    "        v[0: 2] = mk_weight\n",
    "        v[2:  ] = lk_weight\n",
    "        return v\n",
    "    \n",
    "    def encode_v(self, v):\n",
    "        counters_v = np.zeros((self.l, self.b), dtype=int)\n",
    "        for line in range(self.l):\n",
    "            for key in range(self.k):\n",
    "                counters_v[line, self.sim_keys_hash[line, key]] += v[key] * self.sim_keys_sign[line, key]\n",
    "        return counters_v\n",
    "    \n",
    "    def decode_v(self, counters):\n",
    "        weak_estimates = np.zeros((self.l, self.k), dtype=int)\n",
    "        for line in range(self.l):\n",
    "            for key in range(self.k):\n",
    "                weak_estimates[line, key] = counters[line, self.sim_keys_hash[line, key]] * self.sim_keys_sign[line, key]\n",
    "        # for even length axis: returns average of the two medians\n",
    "        estimates = np.median(weak_estimates, axis=0)\n",
    "        return estimates\n",
    "    \n",
    "    def check_parameters(self, nof_checks = 10):\n",
    "        # pass if all sketch draws return exact estimates for v\n",
    "        print(\"testing parameters l = {0}, b = {1}, k = {3}, b-k ratio = {2}.\".format(self.l, self.b, self.bk_ratio, self.k))\n",
    "        v = self.generate_v()\n",
    "        results = np.zeros(nof_checks, dtype=int)\n",
    "        for i in range(nof_checks):\n",
    "            self.draw_sketch()\n",
    "            estimates_v = self.decode_v(self.encode_v(v))\n",
    "            #print(estimates_v)\n",
    "            results[i] = np.absolute(estimates_v - v).sum()\n",
    "        return results.sum() == 0\n",
    "    \n",
    "    def record_attack_round_dependency(self, file_pref = \"sim_3\"):\n",
    "        self.results = np.zeros((self.nof_repititions, len(self.b_list), len(self.bnr_list)), dtype=float)\n",
    "        for b_idx in range(len(self.b_list)):\n",
    "            self.set_b(self.b_list[b_idx])\n",
    "            # check sketch parameters\n",
    "            if self.check_parameters() == False:\n",
    "                print(\"Sketch paremeters sanity check failed for parameters ell = {0} b = {1}. Simulation stopped.\"\\\n",
    "                     .format(self.l, self.b))\n",
    "                return None\n",
    "            for bnr_idx in range(len(self.bnr_list)):\n",
    "                self.set_bnr(self.bnr_list[bnr_idx])\n",
    "                for rep in range(self.nof_repititions):\n",
    "                    #print(\"simulating b = {0}, BNR = {1} repitition = {2}\".format(self.b_list[b_idx], self.bnr_list[bnr_idx], rep))\n",
    "                    self.draw_sketch()\n",
    "                    self.results[rep, b_idx, bnr_idx] = self.simulate_median_attack()\n",
    "            self.results[:, b_idx, :]            \n",
    "            file_name = \"./results/{0}_b_{1}.csv\".format(file_pref, self.b_list[b_idx])\n",
    "            print(\"saving file for b = {0} in {1}\".format(self.b_list[b_idx], file_name))\n",
    "            np.savetxt(file_name, self.results[:, b_idx, :], delimiter=',')\n",
    "    \n",
    "    def simulate_median_attack(self):\n",
    "        counters_a    = np.zeros((self.l, self.nof_sim_keys), dtype=float)\n",
    "        key_0_bias    = 0\n",
    "        key_1_bias    = 0\n",
    "        win_round     = 1\n",
    "        nof_collected = 0\n",
    "        while abs(key_0_bias) < self.bnr or abs(key_1_bias) < self.bnr:\n",
    "            #  query\n",
    "            counters_z = self.get_tail_contribution()\n",
    "            counters_z_median = np.median(counters_z, axis=0)\n",
    "            # collection desicion\n",
    "            if counters_z_median[0] > counters_z_median[1]:\n",
    "                counters_a = counters_a + counters_z\n",
    "                nof_collected += 1\n",
    "            elif counters_z_median[0] < counters_z_median[1]:\n",
    "                counters_a = counters_a - counters_z\n",
    "                nof_collected += 1\n",
    "            # update the keys stopping signal\n",
    "            factor = 1\n",
    "            if nof_collected > 0:\n",
    "                factor = math.sqrt(nof_collected * self.tail_size / self.b)\n",
    "            estimates_a = np.median(counters_a, axis = 0)\n",
    "            key_0_bias = estimates_a[0] / factor\n",
    "            key_1_bias = estimates_a[1] / factor\n",
    "            win_round += 1\n",
    "        print(\"For l = {3}, BNR = {4}, attack wins after {2} rounds. Bias: key 0 = {0}, key 1 = {1}.\"\n",
    "              .format(key_0_bias, key_1_bias, win_round, self.l, self.bnr))\n",
    "        return win_round\n",
    "    \n",
    "    # BLRW distribution contribution\n",
    "    def get_tail_contribution(self):\n",
    "        contribution = np.zeros((self.l, self.nof_sim_keys), dtype=float)\n",
    "        normal_mean = 0\n",
    "        normal_sd   = 1\n",
    "        for j in range(self.l):\n",
    "            line_contribution    = np.zeros(3, dtype = float)\n",
    "            line_contribution[0] = math.sqrt(binomial(self.tail_size, 1/self.b)) * normal(normal_mean, normal_sd)\n",
    "            line_contribution[1] = math.sqrt(binomial(self.tail_size, 1/self.b)) * normal(normal_mean, normal_sd)\n",
    "            line_contribution[2] = math.sqrt(binomial(self.tail_size, 1/self.b)) * normal(normal_mean, normal_sd)\n",
    "            contribution[j] = line_contribution\n",
    "        return contribution"
   ]
  },
  {
   "cell_type": "code",
   "execution_count": 18,
   "id": "1c6ab5e7",
   "metadata": {
    "scrolled": true
   },
   "outputs": [
    {
     "name": "stdout",
     "output_type": "stream",
     "text": [
      "This test is sweeping b values. Test parameters:\n",
      " number of repititions = 40; \n",
      " num of keys simulated = 3;\n",
      " attack tail size = 1000;\n",
      " ell value = 100; b/k = 3; b values = [30, 60, 90, 120, 150, 180, 210, 240, 270, 300]; BNR values = [0.1];\n",
      " seed = None;\n",
      "This test is sweeping b values. Test parameters:\n",
      " number of repititions = 20; \n",
      " num of keys simulated = 3;\n",
      " attack tail size = 1000;\n",
      " ell value = 100; b/k = 3; b values = [30, 60, 90, 120, 150, 180, 210, 240, 270, 300]; BNR values = [0.2];\n",
      " seed = None;\n"
     ]
    }
   ],
   "source": [
    "test = Attack_round_sketch_width_dependency(nof_repititions = 40, bnr_list = [1.0], b_list = [30, 60, 90, 120, 150, 180, 210, 240, 270, 300])\n",
    "print(test)\n",
    "test.record_attack_round_dependency(file_pref = \"sim_3_run_bnr_1\")\n",
    "\n",
    "test = Attack_round_sketch_width_dependency(nof_repititions = 20, bnr_list = [2.0], b_list = [30, 60, 90, 120, 150, 180, 210, 240, 270, 300])\n",
    "print(test)\n",
    "test.record_attack_round_dependency(file_pref = \"sim_3_run_bnr_2\")"
   ]
  },
  {
   "cell_type": "code",
   "execution_count": 30,
   "id": "272aca93",
   "metadata": {},
   "outputs": [
    {
     "name": "stdout",
     "output_type": "stream",
     "text": [
      "This test is sweeping b values. Test parameters:\n",
      " number of repititions = 5; \n",
      " num of keys simulated = 3;\n",
      " attack tail size = 1000;\n",
      " ell value = 30; b/k = 3; b values = [30, 60]; BNR values = [1.0, 2.0];\n",
      " seed = None;\n",
      "[ 57  57 115 115 115 115 115 115 115 115]\n",
      "testing parameters l = 30, b = 30, k = 10, b-k ratio = 3.\n"
     ]
    },
    {
     "data": {
      "text/plain": [
       "True"
      ]
     },
     "execution_count": 30,
     "metadata": {},
     "output_type": "execute_result"
    }
   ],
   "source": [
    "# check_parameters() is running with 10000, since I saw that 100 is can pass while 1000 can fail\n",
    "# First search for sketch fail ell value for b=30, k=10, got:\n",
    "# fail for l = 20\n",
    "# 2 fail 2 pass for l = 30\n",
    "# 1 fail 6 pass  for l = 31\n",
    "# 5 pass for l = 32\n",
    "# then, with l = 32, sweep b up (ane keep kb_ratio = 3): 60 fail+pass, 120 pass+pass, 240 fail, 360 true\n",
    "# pass for l = 35\n",
    "# pass for l = 40\n",
    "# then, with l = 40, sweep b up (ane keep kb_ratio = 3): 60 pass, 120 pass, 240 pass, 360 pass\n",
    "# running time of check is growing with b since we use real encode-deconde methods.\n",
    "test = Attack_round_sketch_width_dependency(bk_ratio = 3, l = 30)\n",
    "print(test)\n",
    "test.set_b(30)\n",
    "v = test.generate_v()\n",
    "print(v)\n",
    "test.check_parameters()"
   ]
  },
  {
   "cell_type": "code",
   "execution_count": 13,
   "id": "2531f586",
   "metadata": {},
   "outputs": [
    {
     "name": "stdout",
     "output_type": "stream",
     "text": [
      "[30, 60, 90, 120, 150, 180, 210, 240, 270, 300]\n"
     ]
    }
   ],
   "source": [
    "list_comp = [30+30*i for i in range(10)]\n",
    "print(list_comp)"
   ]
  },
  {
   "cell_type": "raw",
   "id": "431aa3fb",
   "metadata": {},
   "source": [
    "Testing all run"
   ]
  },
  {
   "cell_type": "code",
   "execution_count": 8,
   "id": "2941b10b",
   "metadata": {},
   "outputs": [
    {
     "name": "stdout",
     "output_type": "stream",
     "text": [
      "test parameters:\n",
      " number of repititions = 5; \n",
      " num of keys simulated = 3;\n",
      " attack tail size = 1000;\n",
      " ell values= [100, 200, 300, 400, 500, 600, 700, 800, 900, 1000]; sd values [0.001]\n",
      " b = 30; seed = None;\n",
      "For l = 100, sd = 0.001, attack wins after 2 rounds. fraction nof_not_colected = 0.0. Bias: key 0 = 0.026164716005862582, key 1 = -0.1420643415413281, Ratio = 1.1626980810381127\n",
      "For l = 100, sd = 0.001, attack wins after 2 rounds. fraction nof_not_colected = 0.0. Bias: key 0 = 0.06539096830598219, key 1 = -0.02782962810643008, Ratio = 1.0226508353988941\n",
      "For l = 100, sd = 0.001, attack wins after 2 rounds. fraction nof_not_colected = 0.0. Bias: key 0 = 0.2221456081322422, key 1 = -0.06289878515132562, Ratio = 0.8164931097649203\n",
      "For l = 100, sd = 0.001, attack wins after 2 rounds. fraction nof_not_colected = 0.0. Bias: key 0 = -0.04740405788377463, key 1 = -0.10945239451784855, Ratio = 1.1013592000286123\n",
      "For l = 100, sd = 0.001, attack wins after 2 rounds. fraction nof_not_colected = 0.0. Bias: key 0 = 0.14352007779177867, key 1 = -0.08229107083871207, Ratio = 1.2446744667591354\n",
      "saving file for ell = 100\n",
      "For l = 200, sd = 0.001, attack wins after 2 rounds. fraction nof_not_colected = 0.0. Bias: key 0 = 0.13693483512831697, key 1 = 0.05880916892514862, Ratio = 0.8345117062233747\n",
      "For l = 200, sd = 0.001, attack wins after 2 rounds. fraction nof_not_colected = 0.0. Bias: key 0 = 0.011032005680900937, key 1 = -0.05902938553671218, Ratio = 1.020873510963715\n",
      "For l = 200, sd = 0.001, attack wins after 2 rounds. fraction nof_not_colected = 0.0. Bias: key 0 = 0.030119793218833103, key 1 = 0.022575219524695836, Ratio = 0.9815156933088464\n",
      "For l = 200, sd = 0.001, attack wins after 2 rounds. fraction nof_not_colected = 0.0. Bias: key 0 = -0.0517580581150772, key 1 = -0.06073503121189046, Ratio = 0.9582581581599224\n",
      "For l = 200, sd = 0.001, attack wins after 2 rounds. fraction nof_not_colected = 0.0. Bias: key 0 = -0.004182010233887583, key 1 = -0.01804171813735048, Ratio = 0.9776642371059929\n",
      "saving file for ell = 200\n",
      "For l = 300, sd = 0.001, attack wins after 2 rounds. fraction nof_not_colected = 0.0. Bias: key 0 = 0.11931550454413065, key 1 = 0.043821615996306254, Ratio = 0.8880419269613421\n",
      "For l = 300, sd = 0.001, attack wins after 2 rounds. fraction nof_not_colected = 0.0. Bias: key 0 = 0.06436969453469812, key 1 = 0.06082488333823744, Ratio = 0.9463141731276528\n",
      "For l = 300, sd = 0.001, attack wins after 2 rounds. fraction nof_not_colected = 0.0. Bias: key 0 = 0.040590713706959304, key 1 = -0.04959465589139616, Ratio = 1.0188222640712208\n",
      "For l = 300, sd = 0.001, attack wins after 2 rounds. fraction nof_not_colected = 0.0. Bias: key 0 = 0.09773351885034712, key 1 = 0.05307605612231327, Ratio = 0.8908201387564083\n",
      "For l = 300, sd = 0.001, attack wins after 2 rounds. fraction nof_not_colected = 0.0. Bias: key 0 = -0.011011286585282817, key 1 = -0.15778272375799082, Ratio = 0.814569018404565\n",
      "saving file for ell = 300\n",
      "For l = 400, sd = 0.001, attack wins after 2 rounds. fraction nof_not_colected = 0.0. Bias: key 0 = 0.0016915644763679852, key 1 = -0.055945440387969184, Ratio = 0.9117418515913956\n",
      "For l = 400, sd = 0.001, attack wins after 2 rounds. fraction nof_not_colected = 0.0. Bias: key 0 = 0.05902374269884859, key 1 = 0.0528561808697083, Ratio = 0.9978037488355286\n",
      "For l = 400, sd = 0.001, attack wins after 2 rounds. fraction nof_not_colected = 0.0. Bias: key 0 = 0.042106884031447196, key 1 = -0.046954754671390334, Ratio = 1.0524504569263218\n",
      "For l = 400, sd = 0.001, attack wins after 2 rounds. fraction nof_not_colected = 0.0. Bias: key 0 = 0.014175927671127415, key 1 = -0.004480130518850244, Ratio = 0.9974228936889693\n",
      "For l = 400, sd = 0.001, attack wins after 2 rounds. fraction nof_not_colected = 0.0. Bias: key 0 = 0.036800484852808846, key 1 = 0.01945993079762978, Ratio = 1.010878191038282\n",
      "saving file for ell = 400\n",
      "For l = 500, sd = 0.001, attack wins after 2 rounds. fraction nof_not_colected = 0.0. Bias: key 0 = 0.03529502924104691, key 1 = 0.013978551103397983, Ratio = 0.9668586282897338\n",
      "For l = 500, sd = 0.001, attack wins after 2 rounds. fraction nof_not_colected = 0.0. Bias: key 0 = 0.03309554809196242, key 1 = -0.0316593296598612, Ratio = 1.081833714313431\n",
      "For l = 500, sd = 0.001, attack wins after 2 rounds. fraction nof_not_colected = 0.0. Bias: key 0 = 0.023990717723352206, key 1 = 0.019019006804886128, Ratio = 1.0982532254818598\n",
      "For l = 500, sd = 0.001, attack wins after 3 rounds. fraction nof_not_colected = 0.0. Bias: key 0 = 0.017154328464663735, key 1 = 0.006868552158822171, Ratio = 0.9318105382852385\n",
      "For l = 500, sd = 0.001, attack wins after 2 rounds. fraction nof_not_colected = 0.0. Bias: key 0 = 0.037224862069134126, key 1 = -0.047236301261678396, Ratio = 0.9292647969987111\n",
      "saving file for ell = 500\n",
      "For l = 600, sd = 0.001, attack wins after 2 rounds. fraction nof_not_colected = 0.0. Bias: key 0 = 0.05971088564362935, key 1 = 0.006807226469784134, Ratio = 1.0248205348704889\n",
      "For l = 600, sd = 0.001, attack wins after 2 rounds. fraction nof_not_colected = 0.0. Bias: key 0 = 0.08832842863046057, key 1 = -0.09048036382543051, Ratio = 0.8761621982748918\n",
      "For l = 600, sd = 0.001, attack wins after 2 rounds. fraction nof_not_colected = 0.0. Bias: key 0 = 0.005434186109368419, key 1 = -0.0609622927226537, Ratio = 1.057645151347884\n",
      "For l = 600, sd = 0.001, attack wins after 2 rounds. fraction nof_not_colected = 0.0. Bias: key 0 = 0.019396972519477577, key 1 = -0.0458169166352275, Ratio = 1.0378406825105526\n",
      "For l = 600, sd = 0.001, attack wins after 3 rounds. fraction nof_not_colected = 0.0. Bias: key 0 = 0.023140242185549508, key 1 = -0.07555387927718836, Ratio = 1.0340952517779118\n",
      "saving file for ell = 600\n",
      "For l = 700, sd = 0.001, attack wins after 2 rounds. fraction nof_not_colected = 0.0. Bias: key 0 = -0.011408549749598615, key 1 = -0.08792363305925295, Ratio = 1.0455878873037603\n",
      "For l = 700, sd = 0.001, attack wins after 2 rounds. fraction nof_not_colected = 0.0. Bias: key 0 = 0.07755094889367589, key 1 = 0.020420613693441135, Ratio = 0.9899875345878193\n",
      "For l = 700, sd = 0.001, attack wins after 2 rounds. fraction nof_not_colected = 0.0. Bias: key 0 = -0.019988514345965835, key 1 = -0.03171665492563204, Ratio = 0.9905902957696011\n",
      "For l = 700, sd = 0.001, attack wins after 2 rounds. fraction nof_not_colected = 0.0. Bias: key 0 = -0.0022031447992066962, key 1 = -0.04599112838140524, Ratio = 1.056112211361615\n",
      "For l = 700, sd = 0.001, attack wins after 2 rounds. fraction nof_not_colected = 0.0. Bias: key 0 = 0.011554867630006092, key 1 = -0.017839649805986277, Ratio = 1.0170561452895854\n",
      "saving file for ell = 700\n",
      "For l = 800, sd = 0.001, attack wins after 2 rounds. fraction nof_not_colected = 0.0. Bias: key 0 = -0.008733956205011398, key 1 = -0.03440772156238798, Ratio = 0.9777089832920052\n",
      "For l = 800, sd = 0.001, attack wins after 2 rounds. fraction nof_not_colected = 0.0. Bias: key 0 = 0.012150809184019796, key 1 = -0.004635388488971081, Ratio = 1.0788591065910784\n",
      "For l = 800, sd = 0.001, attack wins after 2 rounds. fraction nof_not_colected = 0.0. Bias: key 0 = -0.011673459190761492, key 1 = -0.03472788769418982, Ratio = 1.0817413158601699\n",
      "For l = 800, sd = 0.001, attack wins after 2 rounds. fraction nof_not_colected = 0.0. Bias: key 0 = 0.07812449007410818, key 1 = -0.05223893821798704, Ratio = 1.035541187159396\n",
      "For l = 800, sd = 0.001, attack wins after 2 rounds. fraction nof_not_colected = 0.0. Bias: key 0 = 0.06742092205049476, key 1 = -0.025735639786440907, Ratio = 1.0283959734553423\n",
      "saving file for ell = 800\n",
      "For l = 900, sd = 0.001, attack wins after 3 rounds. fraction nof_not_colected = 0.0. Bias: key 0 = 0.010485321883435074, key 1 = -0.03892716870404568, Ratio = 1.005861725038035\n",
      "For l = 900, sd = 0.001, attack wins after 2 rounds. fraction nof_not_colected = 0.0. Bias: key 0 = 0.04493235566470955, key 1 = -0.03994895309064795, Ratio = 1.0298971206796665\n",
      "For l = 900, sd = 0.001, attack wins after 2 rounds. fraction nof_not_colected = 0.0. Bias: key 0 = 0.005328490302844659, key 1 = -0.044540452211937386, Ratio = 0.967819328750627\n",
      "For l = 900, sd = 0.001, attack wins after 2 rounds. fraction nof_not_colected = 0.0. Bias: key 0 = 0.07101711079428012, key 1 = 0.041661762956226124, Ratio = 1.048692619092329\n",
      "For l = 900, sd = 0.001, attack wins after 2 rounds. fraction nof_not_colected = 0.0. Bias: key 0 = 0.042262872396595964, key 1 = -0.030763415457608204, Ratio = 1.0018659027160606\n",
      "saving file for ell = 900\n",
      "For l = 1000, sd = 0.001, attack wins after 2 rounds. fraction nof_not_colected = 0.0. Bias: key 0 = 0.006015975757848777, key 1 = -0.0056226776800242535, Ratio = 1.074387923203793\n"
     ]
    },
    {
     "name": "stdout",
     "output_type": "stream",
     "text": [
      "For l = 1000, sd = 0.001, attack wins after 2 rounds. fraction nof_not_colected = 0.0. Bias: key 0 = 0.03617504127408037, key 1 = 0.015558269898293073, Ratio = 1.0251864150004022\n",
      "For l = 1000, sd = 0.001, attack wins after 2 rounds. fraction nof_not_colected = 0.0. Bias: key 0 = 0.02340697615738173, key 1 = -0.00774941621846017, Ratio = 1.038885113278177\n",
      "For l = 1000, sd = 0.001, attack wins after 2 rounds. fraction nof_not_colected = 0.0. Bias: key 0 = 0.03113324513417821, key 1 = 0.0024432175421231564, Ratio = 0.962602276486768\n",
      "For l = 1000, sd = 0.001, attack wins after 2 rounds. fraction nof_not_colected = 0.0. Bias: key 0 = 0.04588441609402065, key 1 = 0.00927041540165821, Ratio = 1.0455165448542978\n",
      "saving file for ell = 1000\n"
     ]
    }
   ],
   "source": [
    "test = Attack_round_dependency(nof_repititions = 5, bnr_list = [2])\n",
    "print(test)\n",
    "test.record_attack_round_dependency(file_pref = \"sim_3_sd_2\")\n",
    "\n",
    "test = Attack_round_dependency(nof_repititions = 20, bnr_list = [1])\n",
    "print(test)\n",
    "test.record_attack_round_dependency(file_pref = \"sim_3_sd_1\")\n"
   ]
  }
 ],
 "metadata": {
  "kernelspec": {
   "display_name": "Python 3 (ipykernel)",
   "language": "python",
   "name": "python3"
  },
  "language_info": {
   "codemirror_mode": {
    "name": "ipython",
    "version": 3
   },
   "file_extension": ".py",
   "mimetype": "text/x-python",
   "name": "python",
   "nbconvert_exporter": "python",
   "pygments_lexer": "ipython3",
   "version": "3.9.7"
  }
 },
 "nbformat": 4,
 "nbformat_minor": 5
}
