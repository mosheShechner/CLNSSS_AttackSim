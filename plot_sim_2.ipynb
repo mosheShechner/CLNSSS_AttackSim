{
 "cells": [
  {
   "cell_type": "markdown",
   "id": "103e26aa",
   "metadata": {},
   "source": [
    "# Plotting sim 2"
   ]
  },
  {
   "cell_type": "markdown",
   "id": "a9f81d25",
   "metadata": {},
   "source": [
    "This code implements a plot for the presentation of the results of 'sim_2'. 'sim_2' is the simulation that sweeps the sketch \"Hight\"-size parameter '\\ell' vs the amount of rounds the aggregated attack vector"
   ]
  },
  {
   "cell_type": "code",
   "execution_count": 25,
   "id": "c7c909de",
   "metadata": {},
   "outputs": [],
   "source": [
    "import matplotlib.pyplot as plt\n",
    "import numpy as np\n",
    "from numpy.random import default_rng\n",
    "import math\n",
    "\n",
    "class Plot_sim_2():\n",
    "    def __init__(self, nof_repititions = [20, 5], sd_list = [1.0, 4.0], nof_sim_keys=3, tail_size=1000, b=30, l_list=[100, 200, 300, 400, 500, 600, 700, 800, 900, 1000], seed=None):\n",
    "        self.nof_repititions = nof_repititions\n",
    "        self.nof_sim_keys = nof_sim_keys\n",
    "        self.sd_list = sd_list\n",
    "        self.tail_size = tail_size\n",
    "        self.l_list = l_list\n",
    "        self.b = b\n",
    "        self.seed = seed\n",
    "        self.rng = default_rng(seed)\n",
    "        #self.results = np.zeros((self.nof_repititions, len(self.l_list), len(self.sd_list)), dtype=float)\n",
    "\n",
    "    def __repr__(self):\n",
    "        return \"test parameters (for plotting):\\n number of repititions = {0}; \\n num of keys simulated = {1};\\n attack tail size = {2};\\n ell values= {3}; sd values {6}\\n b = {4}; seed = {5};\" \\\n",
    "            .format(self.nof_repititions, self.nof_sim_keys, self.tail_size, self.l_list, self.b, self.seed, self.sd_list)\n",
    "\n",
    "    def load_data(self, data_path_sd_1 = \"./results/data/\", file_pef_sd_1 = \"sim_2_run_sd_1_ell_\", data_path_sd_4 = \"./results/data/\", file_pef_sd_4 = \"sim_2_ell_\"):\n",
    "        #load sd_1 data\n",
    "        self.data_sd_1 = np.zeros((len(self.l_list), self.nof_repititions[0]), dtype=float)\n",
    "        for ell_idx in range(len(self.l_list)):\n",
    "            file_name_sim_2 = file_pef_sd_1 + \"{0}.csv\".format(self.l_list[ell_idx])\n",
    "            file_full_name = data_path_sd_1 + file_name_sim_2\n",
    "            loaded_np_array = np.loadtxt(file_full_name, delimiter=',')\n",
    "            print(\"loaded file {0}, data shape {1}, last record: {2}\".format(file_full_name, loaded_np_array.shape, loaded_np_array[-1]))\n",
    "            self.data_sd_1[ell_idx] = loaded_np_array\n",
    "        #load sd_4 data\n",
    "        self.data_sd_4 = np.zeros((len(self.l_list), self.nof_repititions[1]), dtype=float)\n",
    "        for ell_idx in range(len(self.l_list)):\n",
    "            file_name_sim_2 = file_pef_sd_4 + \"{0}.csv\".format(self.l_list[ell_idx])\n",
    "            file_full_name = data_path_sd_4 + file_name_sim_2\n",
    "            loaded_np_array = np.loadtxt(file_full_name, delimiter=',')\n",
    "            print(\"loaded file {0}, data shape {1}, last record: {2}\".format(file_full_name, loaded_np_array.shape, loaded_np_array[-1]))\n",
    "            self.data_sd_4[ell_idx] = loaded_np_array\n",
    "        \n",
    "#    def get_data(self, data):\n",
    "#        self.data = data\n",
    "    \n",
    "    def gen_results(self):\n",
    "        self.sim_2_sd_1_mean = np.mean(self.data_sd_1, axis = 1)\n",
    "        self.sim_2_sd_1_max  = np.max(self.data_sd_1, axis = 1)\n",
    "        self.sim_2_sd_1_min  = np.min(self.data_sd_1, axis = 1)\n",
    "        self.sim_2_sd_4_mean = np.mean(self.data_sd_4, axis = 1)\n",
    "        self.sim_2_sd_4_max  = np.max(self.data_sd_4, axis = 1)\n",
    "        self.sim_2_sd_4_min  = np.min(self.data_sd_4, axis = 1)\n",
    "        \n",
    "    #after loading data\n",
    "    def plot_results(self, file_name=None):\n",
    "        # golden ratio, width adapted ti title fontsize 14\n",
    "        plt.rcParams[\"figure.figsize\"] = (6.75, 4.17)\n",
    "        plt.rcParams.update({\"text.usetex\": True, \"font.family\": \"serif\", \"font.serif\": ['Computer Modern Roman']})\n",
    "        # 'New Century Schoolbook', 'Bookman', 'Times', 'Palatino', 'Charter', 'Computer Modern Roman'\n",
    "        \n",
    "        title   = \"Attack rounds vs. sketch size\"\n",
    "        xlabel  = \"Sketch size ($\\ell$)\"\n",
    "        ylabel  = \"Rounds\"\n",
    "        #r'$\\texttt{median(key-counters)} / \\sqrt{r\\cdot m/b}$'\n",
    "        plt.title (title , fontsize=14)\n",
    "        plt.xlabel(xlabel, fontsize=12)\n",
    "        plt.ylabel(ylabel, fontsize=12)\n",
    "        # plot mean\n",
    "        plt.plot(self.l_list, self.sim_2_sd_1_mean, color='red', marker = 'x', label= r'$\\texttt{Bias} = 1\\cdot \\sigma$')\n",
    "        plt.plot(self.l_list, self.sim_2_sd_4_mean, color='blue', marker = 'o',label= r'$\\texttt{Bias} = 4\\cdot \\sigma$')\n",
    "        #\n",
    "        # plot max... min\n",
    "        plt.fill_between(self.l_list, self.sim_2_sd_1_min, self.sim_2_sd_1_max, alpha=0.2)\n",
    "        plt.fill_between(self.l_list, self.sim_2_sd_4_min, self.sim_2_sd_4_max, alpha=0.2)\n",
    "        # leggend\n",
    "        plt.legend(loc=\"upper left\")\n",
    "        #save and show\n",
    "        if file_name is not None:\n",
    "            full_file_name = \"./results/{0}.png\".format(file_name)\n",
    "            plt.savefig(full_file_name, dpi=600)  # save as png, margins are cut when saving from Jupyter notebook\n",
    "            print(\"saved figure in {0}\".format(full_file_name))\n",
    "        plt.show()"
   ]
  },
  {
   "cell_type": "markdown",
   "id": "a6706b7f",
   "metadata": {},
   "source": [
    "## Single shot run"
   ]
  },
  {
   "cell_type": "code",
   "execution_count": 26,
   "id": "4ca435ee",
   "metadata": {},
   "outputs": [
    {
     "name": "stdout",
     "output_type": "stream",
     "text": [
      "test parameters (for plotting):\n",
      " number of repititions = [20, 5]; \n",
      " num of keys simulated = 3;\n",
      " attack tail size = 1000;\n",
      " ell values= [100, 200, 300, 400, 500, 600, 700, 800, 900, 1000]; sd values [1.0, 4.0]\n",
      " b = 30; seed = None;\n"
     ]
    }
   ],
   "source": [
    "plot = Plot_sim_2(l_list=[100, 200, 300, 400, 500, 600, 700, 800, 900, 1000])\n",
    "print(plot)"
   ]
  },
  {
   "cell_type": "code",
   "execution_count": 27,
   "id": "56ca8346",
   "metadata": {},
   "outputs": [
    {
     "name": "stdout",
     "output_type": "stream",
     "text": [
      "loaded file ./results/data/sim_2_tail_bin_sd_1_ell_100.csv, data shape (20,), last record: 493.0\n",
      "loaded file ./results/data/sim_2_tail_bin_sd_1_ell_200.csv, data shape (20,), last record: 1014.0\n",
      "loaded file ./results/data/sim_2_tail_bin_sd_1_ell_300.csv, data shape (20,), last record: 1646.0\n",
      "loaded file ./results/data/sim_2_tail_bin_sd_1_ell_400.csv, data shape (20,), last record: 1856.0\n",
      "loaded file ./results/data/sim_2_tail_bin_sd_1_ell_500.csv, data shape (20,), last record: 2879.0\n",
      "loaded file ./results/data/sim_2_tail_bin_sd_1_ell_600.csv, data shape (20,), last record: 3026.0\n",
      "loaded file ./results/data/sim_2_tail_bin_sd_1_ell_700.csv, data shape (20,), last record: 4096.0\n",
      "loaded file ./results/data/sim_2_tail_bin_sd_1_ell_800.csv, data shape (20,), last record: 4345.0\n",
      "loaded file ./results/data/sim_2_tail_bin_sd_1_ell_900.csv, data shape (20,), last record: 4360.0\n",
      "loaded file ./results/data/sim_2_tail_bin_sd_1_ell_1000.csv, data shape (20,), last record: 4862.0\n",
      "loaded file ./results/data/sim_2_tail_bin_sd_4_ell_100.csv, data shape (5,), last record: 8752.0\n",
      "loaded file ./results/data/sim_2_tail_bin_sd_4_ell_200.csv, data shape (5,), last record: 15891.0\n",
      "loaded file ./results/data/sim_2_tail_bin_sd_4_ell_300.csv, data shape (5,), last record: 23718.0\n",
      "loaded file ./results/data/sim_2_tail_bin_sd_4_ell_400.csv, data shape (5,), last record: 31574.0\n",
      "loaded file ./results/data/sim_2_tail_bin_sd_4_ell_500.csv, data shape (5,), last record: 40133.0\n",
      "loaded file ./results/data/sim_2_tail_bin_sd_4_ell_600.csv, data shape (5,), last record: 46743.0\n",
      "loaded file ./results/data/sim_2_tail_bin_sd_4_ell_700.csv, data shape (5,), last record: 54404.0\n",
      "loaded file ./results/data/sim_2_tail_bin_sd_4_ell_800.csv, data shape (5,), last record: 65122.0\n",
      "loaded file ./results/data/sim_2_tail_bin_sd_4_ell_900.csv, data shape (5,), last record: 70842.0\n",
      "loaded file ./results/data/sim_2_tail_bin_sd_4_ell_1000.csv, data shape (5,), last record: 79604.0\n"
     ]
    }
   ],
   "source": [
    "plot.load_data(file_pef_sd_1 = \"sim_2_tail_bin_sd_1_ell_\", file_pef_sd_4 = \"sim_2_tail_bin_sd_4_ell_\")"
   ]
  },
  {
   "cell_type": "code",
   "execution_count": 28,
   "id": "5936f707",
   "metadata": {},
   "outputs": [
    {
     "name": "stdout",
     "output_type": "stream",
     "text": [
      "saved figure in ./results/sim_2_plot_v5.png\n"
     ]
    },
    {
     "data": {
      "image/png": "[encoded data removed]",
      "text/plain": [
       "<Figure size 486x300.24 with 1 Axes>"
      ]
     },
     "metadata": {
      "needs_background": "light"
     },
     "output_type": "display_data"
    }
   ],
   "source": [
    "file_name = \"sim_2_plot_v5\"\n",
    "plot.gen_results()\n",
    "plot.plot_results(file_name)"
   ]
  },
  {
   "cell_type": "code",
   "execution_count": null,
   "id": "5e773a87",
   "metadata": {},
   "outputs": [],
   "source": []
  },
  {
   "cell_type": "code",
   "execution_count": 49,
   "id": "d82ecfae",
   "metadata": {},
   "outputs": [
    {
     "name": "stdout",
     "output_type": "stream",
     "text": [
      "(7, 20)\n",
      "[12788. 12177. 13622. 11395. 14278. 15053. 10607. 11599. 14364. 13675.\n",
      " 13068. 12226. 12487. 11539. 12452. 11728. 13639. 12586. 13953. 11973.]\n"
     ]
    }
   ],
   "source": [
    "print(plot.data_sd_1.shape)\n",
    "print(plot.data_sd_1[6])\n",
    "data_sd_1 = plot.data_sd_1"
   ]
  },
  {
   "cell_type": "code",
   "execution_count": 68,
   "id": "1c359fa8",
   "metadata": {},
   "outputs": [],
   "source": [
    "plot = Plot_sim_2(l_list=[100, 200, 300, 400, 500, 600, 700])\n",
    "plot.data_sd_1 = data_sd_1"
   ]
  },
  {
   "cell_type": "code",
   "execution_count": 87,
   "id": "89f0008f",
   "metadata": {},
   "outputs": [
    {
     "name": "stdout",
     "output_type": "stream",
     "text": [
      "[  645.75  1493.05  2637.6   4290.7   6163.3   8836.45 12760.45]\n",
      "[  864.  1978.  3013.  5286.  7283. 11015. 15053.]\n",
      "[  466.  1178.  2245.  3412.  5158.  7188. 10607.]\n"
     ]
    }
   ],
   "source": [
    "plot.gen_results()\n",
    "print(plot.sim_2_sd_1_mean)\n",
    "print(plot.sim_2_sd_1_max)\n",
    "print(plot.sim_2_sd_1_min)"
   ]
  },
  {
   "cell_type": "code",
   "execution_count": 88,
   "id": "712f9639",
   "metadata": {},
   "outputs": [
    {
     "name": "stdout",
     "output_type": "stream",
     "text": [
      "saved figure in ./results/plot_sim_2_SD4.png\n"
     ]
    },
    {
     "data": {
      "image/png": "[encoded data removed]",
      "text/plain": [
       "<Figure size 486x300.24 with 1 Axes>"
      ]
     },
     "metadata": {
      "needs_background": "light"
     },
     "output_type": "display_data"
    }
   ],
   "source": [
    "plot.plot_results(\"plot_sim_2_SD4\")"
   ]
  },
  {
   "cell_type": "code",
   "execution_count": null,
   "id": "dc3bc050",
   "metadata": {},
   "outputs": [],
   "source": []
  }
 ],
 "metadata": {
  "kernelspec": {
   "display_name": "Python 3 (ipykernel)",
   "language": "python",
   "name": "python3"
  },
  "language_info": {
   "codemirror_mode": {
    "name": "ipython",
    "version": 3
   },
   "file_extension": ".py",
   "mimetype": "text/x-python",
   "name": "python",
   "nbconvert_exporter": "python",
   "pygments_lexer": "ipython3",
   "version": "3.9.7"
  }
 },
 "nbformat": 4,
 "nbformat_minor": 5
}
