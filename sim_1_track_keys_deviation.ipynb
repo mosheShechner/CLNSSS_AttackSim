{
 "cells": [
  {
   "cell_type": "markdown",
   "metadata": {},
   "source": [
    "# Simulation 1 - Countsketch attack"
   ]
  },
  {
   "cell_type": "markdown",
   "metadata": {},
   "source": [
    " Final version."
   ]
  },
  {
   "cell_type": "markdown",
   "metadata": {},
   "source": [
    "This code simulate the attack on CountSketch with median estimator. This simulation tracks 3 keys deviation w.r.t an aggregated attack vector."
   ]
  },
  {
   "cell_type": "code",
   "execution_count": 66,
   "metadata": {},
   "outputs": [],
   "source": [
    "import matplotlib.pyplot as plt\n",
    "import numpy as np\n",
    "from numpy.random import default_rng\n",
    "import math\n",
    "\n",
    "class Countsketch_median_attack:\n",
    "    def __init__(self, num_of_rounds=100, nof_repititions = 10, nof_sim_keys=11, tail_size=1000, b=30, l=100, seed=None):\n",
    "        self.num_of_rounds   = num_of_rounds\n",
    "        self.nof_repititions = nof_repititions\n",
    "        self.nof_sim_keys    = nof_sim_keys\n",
    "        self.tail_size       = tail_size\n",
    "        self.l               = l\n",
    "        self.b               = b\n",
    "        self.seed            = seed\n",
    "        self.rng             = default_rng(seed)\n",
    "        self.results         = np.zeros((self.num_of_rounds, self.nof_sim_keys), dtype=float)\n",
    "\n",
    "    def __repr__(self):\n",
    "        return \"test parameters:\\n number of rounds = {0}; number of repititions = {6}\\n num of keys simulated = {1};\\n attack tail size = {2};\\n l = {3};\\n b = {4}; seed = {5};\" \\\n",
    "            .format(self.num_of_rounds, self.nof_sim_keys, self.tail_size, self.l, self.b, self.seed, self.nof_repititions)\n",
    "\n",
    "    def draw_sketch(self):\n",
    "        self.sim_keys_hash = self.rng.choice(self.b, size=(self.l, self.nof_sim_keys)) \n",
    "        self.sim_keys_sign = self.rng.choice(2     , size=(self.l, self.nof_sim_keys)) * 2 - 1\n",
    "        \n",
    "    def generate_v(self, mk_factor=10, lk_factor=20):\n",
    "        sd = math.sqrt(self.tail_size / self.b)\n",
    "        lk_weight = int(sd * lk_factor)\n",
    "        mk_weight = int(sd * mk_factor)\n",
    "        v = np.ones(self.nof_sim_keys, dtype=int)\n",
    "        v[0: 2] = mk_weight\n",
    "        v[2:  ] = lk_weight\n",
    "        return v\n",
    "    \n",
    "    def encode_v(self, v):\n",
    "        counters_v = np.zeros((self.l, self.b), dtype=int)\n",
    "        for line in range(self.l):\n",
    "            for key in range(self.nof_sim_keys):\n",
    "                counters_v[line, self.sim_keys_hash[line, key]] += v[key] * self.sim_keys_sign[line, key]\n",
    "        return counters_v\n",
    "    \n",
    "    def decode_v(self, counters):\n",
    "        weak_estimates = np.zeros((self.l, self.nof_sim_keys), dtype=int)\n",
    "        for line in range(self.l):\n",
    "            for key in range(self.nof_sim_keys):\n",
    "                weak_estimates[line, key] = counters[line, self.sim_keys_hash[line, key]] * self.sim_keys_sign[line, key]\n",
    "        # for even length axis: returns average of the two medians\n",
    "        estimates = np.median(weak_estimates, axis=0)\n",
    "        return estimates\n",
    "        \n",
    "    def check_parameters(self, nof_checks = 100):\n",
    "        # pass if all sketch draws return exact estimates for v\n",
    "        v = self.generate_v()\n",
    "        results = np.zeros(nof_checks, dtype=int)\n",
    "        for i in range(nof_checks):\n",
    "            self.draw_sketch()\n",
    "            estimates_v = self.decode_v(self.encode_v(v))\n",
    "            results[i] = np.absolute(estimates_v - v).sum()\n",
    "        print(\"parameters OK\")\n",
    "        return results.sum() == 0\n",
    "    \n",
    "    def gencode_z(self):\n",
    "        counters_z = np.zeros((self.l, self.b), dtype=int)\n",
    "        for line in range(self.l):\n",
    "            tail_hash = self.rng.choice(self.b, size=self.tail_size)\n",
    "            tail_sign = self.rng.choice(2     , size=self.tail_size) * 2 - 1\n",
    "            for key in range(self.tail_size):\n",
    "                counters_z[line, tail_hash[key]] += tail_sign[key]\n",
    "        return counters_z\n",
    "\n",
    "    def simulate_median_attack(self, files_pref = \"sim_1\", new_seed=None):\n",
    "        if new_seed is not None:\n",
    "            self.seed = new_seed\n",
    "            self.rng = default_rng(new_seed)\n",
    "        self.results = np.zeros((self.num_of_rounds, 3, self.nof_repititions), dtype=float)\n",
    "        # here we add looping over 10 repititions\n",
    "        for rep in range(self.nof_repititions):\n",
    "            self.draw_sketch()\n",
    "            nof_collected = 0\n",
    "            v = self.generate_v()\n",
    "            counters_a = np.zeros((self.l, self.b), dtype=int)\n",
    "            for r in range(self.num_of_rounds):\n",
    "                # query\n",
    "                counters_v = self.encode_v(v)\n",
    "                counters_z = self.gencode_z()\n",
    "                estimates_q = self.decode_v(counters_v + counters_z)\n",
    "                key_0_reported = estimates_q[0] >= sorted(estimates_q)[1]\n",
    "                key_1_reported = estimates_q[1] >= sorted(estimates_q)[1]\n",
    "                # collecting desicion\n",
    "                if key_0_reported and (not key_1_reported):\n",
    "                    counters_a = counters_a + counters_z\n",
    "                    nof_collected += 1\n",
    "                if key_1_reported and (not key_0_reported):\n",
    "                    counters_a = counters_a - counters_z\n",
    "                    nof_collected += 1\n",
    "                # saving the keys signal\n",
    "                factor = 1\n",
    "                if nof_collected > 0:\n",
    "                    factor = math.sqrt(nof_collected * self.tail_size / self.b)\n",
    "                estimates_a = self.decode_v(counters_a)\n",
    "                self.results[r, :, rep] = estimates_a[0:3] / factor\n",
    "            # here we ouput a file\n",
    "            print(\"saving file for rep = {0}\".format(rep))\n",
    "            file_name = \"./results/{0}_rep_{1}.csv\".format(files_pref, rep)\n",
    "            np.savetxt(file_name, self.results[:,:, rep], delimiter=',')\n",
    "        return self.results\n",
    "\n"
   ]
  },
  {
   "cell_type": "code",
   "execution_count": 67,
   "metadata": {
    "scrolled": true
   },
   "outputs": [
    {
     "name": "stdout",
     "output_type": "stream",
     "text": [
      "test parameters:\n",
      " number of rounds = 5; number of repititions = 10\n",
      " num of keys simulated = 11;\n",
      " attack tail size = 1000;\n",
      " l = 100;\n",
      " b = 30; seed = None;\n",
      "parameters OK\n",
      "saving file for rep = 0\n",
      "saving file for rep = 1\n",
      "saving file for rep = 2\n",
      "saving file for rep = 3\n",
      "saving file for rep = 4\n",
      "saving file for rep = 5\n",
      "saving file for rep = 6\n",
      "saving file for rep = 7\n",
      "saving file for rep = 8\n",
      "saving file for rep = 9\n"
     ]
    }
   ],
   "source": [
    "test_1 = Countsketch_median_attack()\n",
    "print(test_1)\n",
    "\n",
    "if (test_1.check_parameters()):\n",
    "    test_1.simulate_median_attack(files_pref = \"sim_1_run\")"
   ]
  },
  {
   "cell_type": "code",
   "execution_count": 69,
   "metadata": {},
   "outputs": [
    {
     "name": "stdout",
     "output_type": "stream",
     "text": [
      "(5, 3)\n",
      "5\n",
      "[[ 0.08660254  0.          0.08660254]\n",
      " [ 0.12247449  0.         -0.06123724]\n",
      " [ 0.15        0.05       -0.1       ]\n",
      " [ 0.08660254  0.         -0.08660254]\n",
      " [ 0.15491933  0.03872983 -0.03872983]]\n"
     ]
    }
   ],
   "source": [
    "loaded_np_array = np.loadtxt('./results/sim_1_skeleton_rep_0.csv', delimiter=',')\n",
    "print(loaded_np_array.shape)\n",
    "print(loaded_np_array.shape[0])\n",
    "print(loaded_np_array)"
   ]
  },
  {
   "cell_type": "code",
   "execution_count": 518,
   "metadata": {},
   "outputs": [
    {
     "name": "stdout",
     "output_type": "stream",
     "text": [
      "[ 0.90217019 -0.45447671  0.06104911]\n",
      "(200, 3)\n"
     ]
    },
    {
     "data": {
      "image/png": "[encoded data removed]",
      "text/plain": [
       "<Figure size 486x300.24 with 1 Axes>"
      ]
     },
     "metadata": {
      "needs_background": "light"
     },
     "output_type": "display_data"
    }
   ],
   "source": [
    "print(test.results[-1])\n",
    "print(test.results.shape)\n",
    "test.plot_results()"
   ]
  },
  {
   "cell_type": "code",
   "execution_count": 508,
   "metadata": {},
   "outputs": [
    {
     "name": "stdout",
     "output_type": "stream",
     "text": [
      "(500, 3)\n"
     ]
    }
   ],
   "source": []
  },
  {
   "cell_type": "code",
   "execution_count": 54,
   "metadata": {},
   "outputs": [
    {
     "name": "stdout",
     "output_type": "stream",
     "text": [
      "[ 55.5  56.  116.  114.  118.  114.  114.  116.  115.  116.  114. ]\n",
      "[55.5, 56.0, 114.0, 114.0, 114.0, 114.0, 115.0, 116.0, 116.0, 116.0, 118.0]\n",
      "False\n",
      "True\n",
      "1\n"
     ]
    }
   ],
   "source": [
    "test = Countsketch_median_attack(num_of_rounds=100, nof_sim_keys=11, tail_size=1000, b=30, l=100)\n",
    "\n",
    "test.draw_sketch()\n",
    "v = test.generate_v()\n",
    "#print(v)\n",
    "\n",
    "counters_v = test.encode_v(v)\n",
    "#print(counters_v)\n",
    "counters_z = test.gencode_z()\n",
    "#print(counters_z)\n",
    "estimates_q = test.decode_v(counters_v + counters_z)\n",
    "print(estimates_q)\n",
    "print(sorted(estimates_q))\n",
    "key_0_reported = estimates_q[0] >= sorted(estimates_q)[1]\n",
    "key_1_reported = estimates_q[1] >= sorted(estimates_q)[1]\n",
    "print(key_0_reported)\n",
    "print(key_1_reported)\n",
    "\n",
    "if key_0_reported and (not key_1_reported): print(0)\n",
    "if key_1_reported and (not key_0_reported): print(1)"
   ]
  },
  {
   "cell_type": "code",
   "execution_count": 16,
   "metadata": {},
   "outputs": [
    {
     "name": "stdout",
     "output_type": "stream",
     "text": [
      "[[  1   0 -10  -1   8  -1  -4  -4   4   6   1  -7   0  -6   3   2  -9  -5\n",
      "    1   8   2  -4  -3   3   0   3 -11  -1  -3   9]\n",
      " [  2   1   5  -7  -3   8   7   1  -9  -3   9   3   1   0   1   3  -1  -5\n",
      "    5   1   1  -5  -6   3  -8  -5   2  -2  -9  -2]\n",
      " [  1  -5  -6   5  -3  -3   9   1   2  -6   3  -6   5  -1  -2   2   8   0\n",
      "   -2  -2  -2  -4   7  -3  -5  -8   5   2   0   4]\n",
      " [  1   0  -3   4   3   0   7  -6   8  12  -1 -21   0   6  -3   6 -11  -4\n",
      "   -2   0   2   0   4  -6  -2  -8   2  -5   8  -3]\n",
      " [  5   4  -5   1  -9   2  -1   1   6   2   9   2   0  -4  -3  -5   2  -2\n",
      "   -8   5   6   8   6  -5 -14   1   3  -2   1  -6]]\n"
     ]
    }
   ],
   "source": [
    "test = Countsketch_median_attack(num_of_rounds=100, nof_sim_keys=11, tail_size=1000, b=30, l=5)\n",
    "print(test.gencode_z())"
   ]
  },
  {
   "cell_type": "code",
   "execution_count": 8,
   "metadata": {},
   "outputs": [
    {
     "name": "stdout",
     "output_type": "stream",
     "text": [
      "True\n"
     ]
    }
   ],
   "source": [
    "test = Countsketch_median_attack(num_of_rounds=100, nof_sim_keys=11, tail_size=1000, b=30, l=100)\n",
    "print(test.check_parameters())"
   ]
  },
  {
   "cell_type": "code",
   "execution_count": 7,
   "metadata": {},
   "outputs": [
    {
     "name": "stdout",
     "output_type": "stream",
     "text": [
      "[ 57  57 115 115 115 115 115 115 115 115 115]\n",
      "[ 57.  57. 115. 115. 115. 115. 115. 115. 115. 115. 230.]\n"
     ]
    }
   ],
   "source": [
    "test = Countsketch_median_attack(num_of_rounds=100, nof_sim_keys=11, tail_size=1000, b=30, l=5)\n",
    "test.draw_sketch()\n",
    "v = test.generate_v()\n",
    "print(v)\n",
    "print(test.decode_v(test.encode_v(v)))"
   ]
  },
  {
   "cell_type": "code",
   "execution_count": 6,
   "metadata": {},
   "outputs": [
    {
     "name": "stdout",
     "output_type": "stream",
     "text": [
      "test parameters:\n",
      " number of rounds = 10; number of repititions = 10\n",
      " num of keys simulated = 11;\n",
      " attack tail size = 1000;\n",
      " l = 100;\n",
      " b = 30; seed = None;\n",
      "(100, 11)\n",
      "(100, 11)\n",
      "[ 3  2  5 23 23 19 28 25 28 21 18]\n",
      "[ 1  1  1  1  1  1  1 -1  1  1  1]\n"
     ]
    }
   ],
   "source": [
    "test = Countsketch_median_attack(num_of_rounds=10, nof_sim_keys=11, tail_size=1000, b=30, l=100)\n",
    "print(test)\n",
    "test.draw_sketch()\n",
    "print(test.sim_keys_hash.shape)\n",
    "print(test.sim_keys_sign.shape)\n",
    "print(test.sim_keys_hash[0])\n",
    "print(test.sim_keys_sign[0])"
   ]
  },
  {
   "cell_type": "code",
   "execution_count": null,
   "metadata": {},
   "outputs": [],
   "source": []
  },
  {
   "cell_type": "code",
   "execution_count": null,
   "metadata": {},
   "outputs": [],
   "source": []
  }
 ],
 "metadata": {
  "kernelspec": {
   "display_name": "Python 3 (ipykernel)",
   "language": "python",
   "name": "python3"
  },
  "language_info": {
   "codemirror_mode": {
    "name": "ipython",
    "version": 3
   },
   "file_extension": ".py",
   "mimetype": "text/x-python",
   "name": "python",
   "nbconvert_exporter": "python",
   "pygments_lexer": "ipython3",
   "version": "3.9.7"
  }
 },
 "nbformat": 4,
 "nbformat_minor": 2
}
